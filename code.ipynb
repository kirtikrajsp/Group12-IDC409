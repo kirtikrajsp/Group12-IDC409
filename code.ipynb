{
  "nbformat": 4,
  "nbformat_minor": 0,
  "metadata": {
    "colab": {
      "provenance": [],
      "authorship_tag": "ABX9TyM19/93S2SV/hWAgk59TU53",
      "include_colab_link": true
    },
    "kernelspec": {
      "name": "python3",
      "display_name": "Python 3"
    },
    "language_info": {
      "name": "python"
    }
  },
  "cells": [
    {
      "cell_type": "markdown",
      "metadata": {
        "id": "view-in-github",
        "colab_type": "text"
      },
      "source": [
        "<a href=\"https://colab.research.google.com/github/kirtikrajsp/Group12-IDC409/blob/main/code.ipynb\" target=\"_parent\"><img src=\"https://colab.research.google.com/assets/colab-badge.svg\" alt=\"Open In Colab\"/></a>"
      ]
    },
    {
      "cell_type": "code",
      "execution_count": 1,
      "metadata": {
        "id": "mX_ZmWzV2y1y"
      },
      "outputs": [],
      "source": [
        "import requests\n",
        "from bs4 import BeautifulSoup\n",
        "import pandas as pd\n",
        "import sqlite3\n",
        "import re\n",
        "import numpy as np\n",
        "import tabulate\n",
        "import matplotlib.pyplot as plt\n",
        "from scipy.optimize import curve_fit"
      ]
    },
    {
      "cell_type": "code",
      "source": [
        "print(\"Fetching main faculty page...\")\n",
        "data = requests.get('https://www.iiserkol.ac.in/web/en/people/faculty/dbs/')\n",
        "soup = BeautifulSoup(data.content, \"html.parser\")\n",
        "\n",
        "# Collecting faculty profile URLs\n",
        "urls = [link['href'] for link in soup.find_all('a')]\n",
        "urls = [url for url in urls if '/web/en/people/faculty/dbs/' in url]\n",
        "link = 'https://www.iiserkol.ac.in'\n",
        "faculty_websites = list(set([link + url for url in urls]))\n",
        "print(f\"Found {len(faculty_websites)} faculty profile URLs.\")"
      ],
      "metadata": {
        "colab": {
          "base_uri": "https://localhost:8080/"
        },
        "id": "BIBr8HO94oRM",
        "outputId": "e2f35e5e-f460-4091-b957-00afbea90de8"
      },
      "execution_count": 2,
      "outputs": [
        {
          "output_type": "stream",
          "name": "stdout",
          "text": [
            "Fetching main faculty page...\n",
            "Found 27 faculty profile URLs.\n"
          ]
        }
      ]
    },
    {
      "cell_type": "code",
      "source": [],
      "metadata": {
        "id": "Az3NCnwH4tn-"
      },
      "execution_count": null,
      "outputs": []
    }
  ]
}