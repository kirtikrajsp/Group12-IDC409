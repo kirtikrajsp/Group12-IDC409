{
  "nbformat": 4,
  "nbformat_minor": 0,
  "metadata": {
    "colab": {
      "provenance": [],
      "authorship_tag": "ABX9TyNTQYHSENptBiQO5Pp3QclQ"
    },
    "kernelspec": {
      "name": "python3",
      "display_name": "Python 3"
    },
    "language_info": {
      "name": "python"
    }
  },
  "cells": [
    {
      "cell_type": "code",
      "execution_count": null,
      "metadata": {
        "id": "mX_ZmWzV2y1y"
      },
      "outputs": [],
      "source": []
    }
  ]
}